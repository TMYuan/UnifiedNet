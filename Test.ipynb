{
 "cells": [
  {
   "cell_type": "code",
   "execution_count": 1,
   "metadata": {},
   "outputs": [],
   "source": [
    "from model import encoder, decoder\n",
    "from util import datasets\n",
    "from torchvision import transforms, utils\n",
    "from torch.utils.data import DataLoader\n",
    "from train import train\n",
    "from model import encoder, decoder, image_encoder\n",
    "from torchvision.utils import make_grid\n",
    "from torch.distributions.normal import Normal\n",
    "import os\n",
    "import cv2\n",
    "import loss\n",
    "import numpy as np\n",
    "import torch\n",
    "import torch.optim as optim\n",
    "import matplotlib.pyplot as plt"
   ]
  },
  {
   "cell_type": "code",
   "execution_count": 2,
   "metadata": {},
   "outputs": [],
   "source": [
    "PARAM_CHAIRS = {\n",
    "    'train': '/home/anatolios/project/All_in_one/FlyingChairs/',\n",
    "    'test': '/home/julia0607/Flying Chairs/testing',\n",
    "    'name': 'FlyingChairs',\n",
    "    'dtype': 'image'\n",
    "}\n",
    "BATCH_SIZE = 64\n",
    "N_EPOCHS = 30\n",
    "LR = 1e-4\n",
    "DEVICE = torch.device(\"cuda:0\" if torch.cuda.is_available() else \"cpu\")"
   ]
  },
  {
   "cell_type": "code",
   "execution_count": 3,
   "metadata": {},
   "outputs": [],
   "source": [
    "def prepare_data(param, transformation):\n",
    "    \"\"\"\n",
    "    Return dataloader of given parameters\n",
    "    \"\"\"\n",
    "    # Extract parameters\n",
    "    path_train, path_test, name, dtype = param['train'], param['test'], param['name'], param['dtype']\n",
    "    \n",
    "    # Create dataset for train and test path\n",
    "    data_train = datasets.Datasets(path_train, name, dtype, transforms=transformation, img_size=224)\n",
    "#     print(data_train[0][1].shape)\n",
    "#     data_test = datasets.Datasets(path_test, name, dtype, transforms=transformation)\n",
    "\n",
    "    # Create dataloader for train and test\n",
    "#     dataloader_train = DataLoader(dataset=data_train, batch_size=BATCH_SIZE, shuffle=True, drop_last=True)\n",
    "#     dataloader_test = DataLoader(dataset=data_test, batch_size=BATCH_SIZE, shuffle=True)\n",
    "    return data_train, data_train"
   ]
  },
  {
   "cell_type": "code",
   "execution_count": 4,
   "metadata": {},
   "outputs": [],
   "source": [
    "# trans = transforms.Compose([\n",
    "#             transforms.ToTensor(),\n",
    "#             transforms.Normalize([0.485, 0.456, 0.406], [0.229, 0.224, 0.225])\n",
    "#         ])\n",
    "# fc_train, _ = prepare_data(PARAM_CHAIRS, trans)\n",
    "trans = transforms.Compose([\n",
    "            transforms.ToTensor(),\n",
    "#             transforms.Normalize([0.5, 0.5, 0.5], [0.5, 0.5, 0.5])\n",
    "        ])\n",
    "kth_dataset = datasets.KTHDataset('./data/kth/raw/', transforms=trans, img_size=64)\n",
    "kth_train = DataLoader(dataset=kth_dataset, batch_size=BATCH_SIZE, shuffle=True, drop_last=True)"
   ]
  },
  {
   "cell_type": "code",
   "execution_count": 5,
   "metadata": {},
   "outputs": [],
   "source": [
    "def imshow(img):\n",
    "    \"\"\"\n",
    "    Show image from normalized tensor data\n",
    "    \"\"\"\n",
    "    img = img.numpy().transpose((1, 2, 0))\n",
    "#     mean = np.array([0.5, 0.5, 0.5])\n",
    "#     std = np.array([0.5, 0.5, 0.5])\n",
    "#     img = std * img + mean\n",
    "    img = np.clip(img, 0, 1)\n",
    "    return img"
   ]
  },
  {
   "cell_type": "code",
   "execution_count": 6,
   "metadata": {},
   "outputs": [],
   "source": [
    "def combine_plot(img_1, img_2, img_pred, idx, save_path):\n",
    "    print(img_1.shape)\n",
    "    print(img_2.shape)\n",
    "    print(img_pred.shape)\n",
    "    img_1_p = imshow(img_1)\n",
    "    img_2_p = imshow(img_2)\n",
    "    img_pred_p = imshow(img_pred)\n",
    "    fig, axs = plt.subplots(1, 3)\n",
    "    axs[0].imshow(img_1_p)\n",
    "    axs[0].set_title('Image 1')\n",
    "    axs[1].imshow(img_2_p)\n",
    "    axs[1].set_title('Image 2')\n",
    "    axs[2].imshow(img_pred_p)\n",
    "    axs[2].set_title('Prediction')\n",
    "    fig.savefig(os.path.join(save_path, '{:0>2d}.jpg'.format(idx)), dpi=150)\n",
    "    plt.close(fig)"
   ]
  },
  {
   "cell_type": "code",
   "execution_count": 7,
   "metadata": {},
   "outputs": [
    {
     "name": "stdout",
     "output_type": "stream",
     "text": [
      "best weight loaded!\n"
     ]
    }
   ],
   "source": [
    "model = {\n",
    "    'encoder' : encoder(channel_in=6, vae = False),\n",
    "    'decoder' : decoder(channel_in=3, f_extracter=True),\n",
    "#     'image_encoder' : image_encoder()\n",
    "}\n",
    "model['encoder'].load_state_dict(torch.load('saved/0930_2/weight_encoder.pt'))\n",
    "model['decoder'].load_state_dict(torch.load('saved/0930_2/weight_decoder.pt'))\n",
    "# model['image_encoder'].load_state_dict(torch.load('saved/0915_1/weight_image_encoder.pt'))\n",
    "\n",
    "print('best weight loaded!')"
   ]
  },
  {
   "cell_type": "code",
   "execution_count": 8,
   "metadata": {},
   "outputs": [],
   "source": [
    "# SAVE_PATH = 'saved/0904_2/results'\n",
    "# if not os.path.exists(SAVE_PATH):\n",
    "#     os.makedirs(SAVE_PATH)\n",
    "# with torch.no_grad():\n",
    "#     model['encoder'].eval()\n",
    "#     model['decoder'].eval()\n",
    "    \n",
    "#     img_1, img_2 = next(iter(m_train))\n",
    "# #     img_1, img_2 = img_1.to(DEVICE), img_2.to(DEVICE)\n",
    "#     z = model['encoder'](img_2, img_1)\n",
    "#     img_pred = model['decoder'](z, img_1)\n",
    "    \n",
    "#     img_1_d = img_1.cpu()\n",
    "#     img_2_d = img_2.cpu()\n",
    "#     img_pred_d = img_pred.cpu()\n",
    "    \n",
    "#     img_1_grid = make_grid(img_1_d).numpy().transpose((1, 2, 0))\n",
    "#     img_2_grid = make_grid(img_2_d).numpy().transpose((1, 2, 0))\n",
    "#     img_pred_grid = make_grid(img_pred_d).numpy().transpose((1, 2, 0))\n",
    "    \n",
    "#     # Plot the results side-by-side\n",
    "#     f, axarr = plt.subplots(1, 3)\n",
    "#     axarr[0].imshow(img_1_grid)\n",
    "#     axarr[0].set_title('img_1')\n",
    "\n",
    "#     axarr[1].imshow(img_2_grid)\n",
    "#     axarr[1].set_title('img_2')\n",
    "    \n",
    "#     axarr[2].imshow(img_pred_grid)\n",
    "#     axarr[2].set_title('img_pred')\n",
    "    \n",
    "#     f.savefig(os.path.join(SAVE_PATH, 'result.jpg'), dpi=1000)\n",
    "#     plt.close(f)"
   ]
  },
  {
   "cell_type": "code",
   "execution_count": 9,
   "metadata": {},
   "outputs": [
    {
     "name": "stdout",
     "output_type": "stream",
     "text": [
      "torch.Size([3, 64, 64])\n",
      "torch.Size([3, 64, 64])\n",
      "torch.Size([3, 64, 64])\n",
      "torch.Size([3, 64, 64])\n",
      "torch.Size([3, 64, 64])\n",
      "torch.Size([3, 64, 64])\n",
      "torch.Size([3, 64, 64])\n",
      "torch.Size([3, 64, 64])\n",
      "torch.Size([3, 64, 64])\n",
      "torch.Size([3, 64, 64])\n",
      "torch.Size([3, 64, 64])\n",
      "torch.Size([3, 64, 64])\n",
      "torch.Size([3, 64, 64])\n",
      "torch.Size([3, 64, 64])\n",
      "torch.Size([3, 64, 64])\n",
      "torch.Size([3, 64, 64])\n",
      "torch.Size([3, 64, 64])\n",
      "torch.Size([3, 64, 64])\n",
      "torch.Size([3, 64, 64])\n",
      "torch.Size([3, 64, 64])\n",
      "torch.Size([3, 64, 64])\n",
      "torch.Size([3, 64, 64])\n",
      "torch.Size([3, 64, 64])\n",
      "torch.Size([3, 64, 64])\n",
      "torch.Size([3, 64, 64])\n",
      "torch.Size([3, 64, 64])\n",
      "torch.Size([3, 64, 64])\n",
      "torch.Size([3, 64, 64])\n",
      "torch.Size([3, 64, 64])\n",
      "torch.Size([3, 64, 64])\n",
      "torch.Size([3, 64, 64])\n",
      "torch.Size([3, 64, 64])\n",
      "torch.Size([3, 64, 64])\n",
      "torch.Size([3, 64, 64])\n",
      "torch.Size([3, 64, 64])\n",
      "torch.Size([3, 64, 64])\n",
      "torch.Size([3, 64, 64])\n",
      "torch.Size([3, 64, 64])\n",
      "torch.Size([3, 64, 64])\n",
      "torch.Size([3, 64, 64])\n",
      "torch.Size([3, 64, 64])\n",
      "torch.Size([3, 64, 64])\n",
      "torch.Size([3, 64, 64])\n",
      "torch.Size([3, 64, 64])\n",
      "torch.Size([3, 64, 64])\n",
      "torch.Size([3, 64, 64])\n",
      "torch.Size([3, 64, 64])\n",
      "torch.Size([3, 64, 64])\n",
      "torch.Size([3, 64, 64])\n",
      "torch.Size([3, 64, 64])\n",
      "torch.Size([3, 64, 64])\n",
      "torch.Size([3, 64, 64])\n",
      "torch.Size([3, 64, 64])\n",
      "torch.Size([3, 64, 64])\n",
      "torch.Size([3, 64, 64])\n",
      "torch.Size([3, 64, 64])\n",
      "torch.Size([3, 64, 64])\n",
      "torch.Size([3, 64, 64])\n",
      "torch.Size([3, 64, 64])\n",
      "torch.Size([3, 64, 64])\n",
      "torch.Size([3, 64, 64])\n",
      "torch.Size([3, 64, 64])\n",
      "torch.Size([3, 64, 64])\n",
      "torch.Size([3, 64, 64])\n",
      "torch.Size([3, 64, 64])\n",
      "torch.Size([3, 64, 64])\n",
      "torch.Size([3, 64, 64])\n",
      "torch.Size([3, 64, 64])\n",
      "torch.Size([3, 64, 64])\n",
      "torch.Size([3, 64, 64])\n",
      "torch.Size([3, 64, 64])\n",
      "torch.Size([3, 64, 64])\n",
      "torch.Size([3, 64, 64])\n",
      "torch.Size([3, 64, 64])\n",
      "torch.Size([3, 64, 64])\n",
      "torch.Size([3, 64, 64])\n",
      "torch.Size([3, 64, 64])\n",
      "torch.Size([3, 64, 64])\n",
      "torch.Size([3, 64, 64])\n",
      "torch.Size([3, 64, 64])\n",
      "torch.Size([3, 64, 64])\n",
      "torch.Size([3, 64, 64])\n",
      "torch.Size([3, 64, 64])\n",
      "torch.Size([3, 64, 64])\n",
      "torch.Size([3, 64, 64])\n",
      "torch.Size([3, 64, 64])\n",
      "torch.Size([3, 64, 64])\n",
      "torch.Size([3, 64, 64])\n",
      "torch.Size([3, 64, 64])\n",
      "torch.Size([3, 64, 64])\n"
     ]
    }
   ],
   "source": [
    "SAVE_PATH = 'saved/0930_2/results'\n",
    "np.random.seed(0)\n",
    "if not os.path.exists(SAVE_PATH):\n",
    "    os.makedirs(SAVE_PATH)\n",
    "for i in range(30):\n",
    "    idx = np.random.randint(len(kth_dataset))\n",
    "    img_1, img_2 = kth_dataset[idx]\n",
    "    img_1, img_2 = img_1.unsqueeze(0), img_2.unsqueeze(0)\n",
    "    with torch.no_grad():\n",
    "        model['encoder'].eval()\n",
    "        model['decoder'].eval()\n",
    "#         model['image_encoder'].eval()\n",
    "#         c_list = model['image_encoder'](img_1)\n",
    "        if model['encoder'].vae == False:\n",
    "            z = model['encoder'](img_2, img_1)\n",
    "        else:\n",
    "            z, _, _ = model['encoder'](img_2, img_1)\n",
    "        img_pred = model['decoder'](z, img_1)\n",
    "        \n",
    "    combine_plot(img_1.squeeze(), img_2.squeeze(), img_pred.squeeze(), i, SAVE_PATH)"
   ]
  },
  {
   "cell_type": "code",
   "execution_count": 12,
   "metadata": {},
   "outputs": [
    {
     "name": "stdout",
     "output_type": "stream",
     "text": [
      "torch.Size([3, 64, 64])\n",
      "torch.Size([3, 64, 64])\n",
      "torch.Size([3, 64, 64])\n",
      "torch.Size([3, 64, 64])\n",
      "torch.Size([3, 64, 64])\n",
      "torch.Size([3, 64, 64])\n",
      "torch.Size([3, 64, 64])\n",
      "torch.Size([3, 64, 64])\n",
      "torch.Size([3, 64, 64])\n",
      "torch.Size([3, 64, 64])\n",
      "torch.Size([3, 64, 64])\n",
      "torch.Size([3, 64, 64])\n",
      "torch.Size([3, 64, 64])\n",
      "torch.Size([3, 64, 64])\n",
      "torch.Size([3, 64, 64])\n",
      "torch.Size([3, 64, 64])\n",
      "torch.Size([3, 64, 64])\n",
      "torch.Size([3, 64, 64])\n",
      "torch.Size([3, 64, 64])\n",
      "torch.Size([3, 64, 64])\n",
      "torch.Size([3, 64, 64])\n",
      "torch.Size([3, 64, 64])\n",
      "torch.Size([3, 64, 64])\n",
      "torch.Size([3, 64, 64])\n",
      "torch.Size([3, 64, 64])\n",
      "torch.Size([3, 64, 64])\n",
      "torch.Size([3, 64, 64])\n",
      "torch.Size([3, 64, 64])\n",
      "torch.Size([3, 64, 64])\n",
      "torch.Size([3, 64, 64])\n",
      "torch.Size([3, 64, 64])\n",
      "torch.Size([3, 64, 64])\n",
      "torch.Size([3, 64, 64])\n",
      "torch.Size([3, 64, 64])\n",
      "torch.Size([3, 64, 64])\n",
      "torch.Size([3, 64, 64])\n",
      "torch.Size([3, 64, 64])\n",
      "torch.Size([3, 64, 64])\n",
      "torch.Size([3, 64, 64])\n",
      "torch.Size([3, 64, 64])\n",
      "torch.Size([3, 64, 64])\n",
      "torch.Size([3, 64, 64])\n",
      "torch.Size([3, 64, 64])\n",
      "torch.Size([3, 64, 64])\n",
      "torch.Size([3, 64, 64])\n",
      "torch.Size([3, 64, 64])\n",
      "torch.Size([3, 64, 64])\n",
      "torch.Size([3, 64, 64])\n",
      "torch.Size([3, 64, 64])\n",
      "torch.Size([3, 64, 64])\n",
      "torch.Size([3, 64, 64])\n",
      "torch.Size([3, 64, 64])\n",
      "torch.Size([3, 64, 64])\n",
      "torch.Size([3, 64, 64])\n",
      "torch.Size([3, 64, 64])\n",
      "torch.Size([3, 64, 64])\n",
      "torch.Size([3, 64, 64])\n",
      "torch.Size([3, 64, 64])\n",
      "torch.Size([3, 64, 64])\n",
      "torch.Size([3, 64, 64])\n",
      "torch.Size([3, 64, 64])\n",
      "torch.Size([3, 64, 64])\n",
      "torch.Size([3, 64, 64])\n",
      "torch.Size([3, 64, 64])\n",
      "torch.Size([3, 64, 64])\n",
      "torch.Size([3, 64, 64])\n",
      "torch.Size([3, 64, 64])\n",
      "torch.Size([3, 64, 64])\n",
      "torch.Size([3, 64, 64])\n",
      "torch.Size([3, 64, 64])\n",
      "torch.Size([3, 64, 64])\n",
      "torch.Size([3, 64, 64])\n",
      "torch.Size([3, 64, 64])\n",
      "torch.Size([3, 64, 64])\n",
      "torch.Size([3, 64, 64])\n",
      "torch.Size([3, 64, 64])\n",
      "torch.Size([3, 64, 64])\n",
      "torch.Size([3, 64, 64])\n",
      "torch.Size([3, 64, 64])\n",
      "torch.Size([3, 64, 64])\n",
      "torch.Size([3, 64, 64])\n",
      "torch.Size([3, 64, 64])\n",
      "torch.Size([3, 64, 64])\n",
      "torch.Size([3, 64, 64])\n",
      "torch.Size([3, 64, 64])\n",
      "torch.Size([3, 64, 64])\n",
      "torch.Size([3, 64, 64])\n",
      "torch.Size([3, 64, 64])\n",
      "torch.Size([3, 64, 64])\n",
      "torch.Size([3, 64, 64])\n"
     ]
    }
   ],
   "source": [
    "SAVE_PATH = 'saved/0930_2/samples'\n",
    "if not os.path.exists(SAVE_PATH):\n",
    "    os.makedirs(SAVE_PATH)\n",
    "for i in range(30):\n",
    "    idx = np.random.randint(len(kth_dataset))\n",
    "    img_1, img_2 = kth_dataset[idx]\n",
    "    img_1, img_2 = img_1.unsqueeze(0), img_2.unsqueeze(0)\n",
    "    with torch.no_grad():\n",
    "        model['encoder'].eval()\n",
    "        model['decoder'].eval()\n",
    "        z = Normal(torch.zeros(1 * 32 * 8 * 8), torch.ones(1 * 32 * 8 * 8)).sample()\n",
    "        z = z.view(1, 32, 8, 8)\n",
    "        img_pred = model['decoder'](z, img_1)\n",
    "    combine_plot(img_1.squeeze(), img_2.squeeze(), img_pred.squeeze(), i, SAVE_PATH)"
   ]
  },
  {
   "cell_type": "code",
   "execution_count": 25,
   "metadata": {},
   "outputs": [],
   "source": [
    "img, flow = fc_train[0]"
   ]
  },
  {
   "cell_type": "code",
   "execution_count": 26,
   "metadata": {},
   "outputs": [
    {
     "data": {
      "text/plain": [
       "tensor(1.2667)"
      ]
     },
     "execution_count": 26,
     "metadata": {},
     "output_type": "execute_result"
    }
   ],
   "source": [
    "flow.max()"
   ]
  },
  {
   "cell_type": "code",
   "execution_count": 27,
   "metadata": {},
   "outputs": [
    {
     "data": {
      "text/plain": [
       "tensor(-1.5985)"
      ]
     },
     "execution_count": 27,
     "metadata": {},
     "output_type": "execute_result"
    }
   ],
   "source": [
    "flow.min()"
   ]
  },
  {
   "cell_type": "code",
   "execution_count": 28,
   "metadata": {},
   "outputs": [
    {
     "data": {
      "text/plain": [
       "<matplotlib.image.AxesImage at 0x7f4921ca56d8>"
      ]
     },
     "execution_count": 28,
     "metadata": {},
     "output_type": "execute_result"
    },
    {
     "data": {
      "image/png": "[encoded data removed]",
      "text/plain": [
       "<matplotlib.figure.Figure at 0x7f493e014860>"
      ]
     },
     "metadata": {},
     "output_type": "display_data"
    }
   ],
   "source": [
    "plt.imshow(imshow(img.squeeze()))"
   ]
  },
  {
   "cell_type": "code",
   "execution_count": 29,
   "metadata": {},
   "outputs": [
    {
     "data": {
      "text/plain": [
       "<matplotlib.image.AxesImage at 0x7f4921e41390>"
      ]
     },
     "execution_count": 29,
     "metadata": {},
     "output_type": "execute_result"
    },
    {
     "data": {
      "image/png": "[encoded data removed]",
      "text/plain": [
       "<matplotlib.figure.Figure at 0x7f4921ce6160>"
      ]
     },
     "metadata": {},
     "output_type": "display_data"
    }
   ],
   "source": [
    "# plt.imshow(flowshow(flow.squeeze()))\n",
    "plt.imshow(flow.squeeze()[1, ...])"
   ]
  },
  {
   "cell_type": "code",
   "execution_count": 30,
   "metadata": {},
   "outputs": [
    {
     "data": {
      "text/plain": [
       "<matplotlib.image.AxesImage at 0x7f493c48e630>"
      ]
     },
     "execution_count": 30,
     "metadata": {},
     "output_type": "execute_result"
    },
    {
     "data": {
      "image/png": "[encoded data removed]",
      "text/plain": [
       "<matplotlib.figure.Figure at 0x7f4921f03780>"
      ]
     },
     "metadata": {},
     "output_type": "display_data"
    }
   ],
   "source": [
    "# print(flow_recon.shape)\n",
    "# plt.imshow(flowshow(flow_recon.squeeze()))\n",
    "with torch.no_grad():\n",
    "    img, flow = img.unsqueeze(0), flow.unsqueeze(0)\n",
    "    model['encoder'].eval()\n",
    "    model['decoder'].eval()\n",
    "    z = model['encoder'](flow, img)\n",
    "    flow_recon = model['decoder'](z, img)\n",
    "flow_recon = flow_recon.squeeze()\n",
    "plt.imshow(flow_recon[1, ...])"
   ]
  },
  {
   "cell_type": "code",
   "execution_count": 111,
   "metadata": {},
   "outputs": [
    {
     "data": {
      "text/plain": [
       "tensor([[ 9.4991e-01,  1.1864e+00,  1.4348e+00,  ...,  2.2063e-01,\n",
       "          3.5680e-02,  9.6990e-03],\n",
       "        [ 9.1465e-01,  1.1609e+00,  1.4190e+00,  ...,  3.0544e-01,\n",
       "          2.4370e-01,  6.1492e-02],\n",
       "        [ 8.7939e-01,  1.1354e+00,  1.4033e+00,  ...,  4.5870e-01,\n",
       "          2.6490e-01,  2.0064e-01],\n",
       "        ...,\n",
       "        [-5.0882e-01, -4.7673e-01, -3.7326e-01,  ..., -5.7224e-01,\n",
       "         -4.2356e-01, -3.8337e-01],\n",
       "        [-4.5146e-01, -5.3913e-01, -3.3863e-01,  ..., -4.8808e-01,\n",
       "         -3.4247e-01, -2.6907e-01],\n",
       "        [-4.3690e-01, -5.5112e-01, -3.8597e-01,  ..., -3.0266e-01,\n",
       "         -2.3988e-01, -1.3233e-01]])"
      ]
     },
     "execution_count": 111,
     "metadata": {},
     "output_type": "execute_result"
    }
   ],
   "source": [
    "flow_recon[0, 1, ...]"
   ]
  },
  {
   "cell_type": "code",
   "execution_count": 16,
   "metadata": {},
   "outputs": [
    {
     "data": {
      "text/plain": [
       "tensor([[  -760.8721,   -758.4517,   -756.0310,  ...,   -225.9265,\n",
       "           -223.5059,   -221.0853],\n",
       "        [  -760.0421,   -757.6216,   -755.2010,  ...,   -225.0964,\n",
       "           -222.6758,   -220.2553],\n",
       "        [  -759.2121,   -756.7915,   -754.3710,  ...,   -224.2664,\n",
       "           -221.8458,   -219.4252],\n",
       "        ...,\n",
       "        [  -577.4357,   -575.0152,   -572.5946,  ...,    -27.4095,\n",
       "            -24.9854,    -25.8498],\n",
       "        [  -576.6057,   -574.1852,   -571.7646,  ...,    -26.0168,\n",
       "            -24.6323,    -36.8189],\n",
       "        [  -575.7757,   -573.3551,   -570.9345,  ...,    -24.6240,\n",
       "            -38.4094,    -35.9888]])"
      ]
     },
     "execution_count": 16,
     "metadata": {},
     "output_type": "execute_result"
    }
   ],
   "source": [
    "flow[0, 1, ...]"
   ]
  },
  {
   "cell_type": "code",
   "execution_count": 10,
   "metadata": {},
   "outputs": [
    {
     "data": {
      "text/plain": [
       "tensor([[[[ 0.1113,  0.8739],\n",
       "          [-0.3846,  0.1514]],\n",
       "\n",
       "         [[ 1.8741, -1.6189],\n",
       "          [ 1.2808, -0.7930]]],\n",
       "\n",
       "\n",
       "        [[[ 2.2111, -1.1702],\n",
       "          [ 1.2015, -0.2090]],\n",
       "\n",
       "         [[ 0.1677,  0.0593],\n",
       "          [ 1.4618, -0.6723]]]])"
      ]
     },
     "execution_count": 10,
     "metadata": {},
     "output_type": "execute_result"
    }
   ],
   "source": [
    "test = torch.randn([2, 2, 2, 2])\n",
    "test"
   ]
  },
  {
   "cell_type": "code",
   "execution_count": 11,
   "metadata": {},
   "outputs": [
    {
     "name": "stderr",
     "output_type": "stream",
     "text": [
      "/home/tao/anaconda3/lib/python3.6/site-packages/ipykernel_launcher.py:1: UserWarning: Implicit dimension choice for softmax has been deprecated. Change the call to include dim=X as an argument.\n",
      "  \"\"\"Entry point for launching an IPython kernel.\n"
     ]
    }
   ],
   "source": [
    "test = torch.nn.functional.softmax(test)"
   ]
  },
  {
   "cell_type": "code",
   "execution_count": 12,
   "metadata": {},
   "outputs": [
    {
     "data": {
      "text/plain": [
       "tensor([[[[ 0.1464,  0.9236],\n",
       "          [ 0.1590,  0.7200]],\n",
       "\n",
       "         [[ 0.8536,  0.0764],\n",
       "          [ 0.8410,  0.2800]]],\n",
       "\n",
       "\n",
       "        [[[ 0.8853,  0.2263],\n",
       "          [ 0.4353,  0.6138]],\n",
       "\n",
       "         [[ 0.1147,  0.7737],\n",
       "          [ 0.5647,  0.3862]]]])"
      ]
     },
     "execution_count": 12,
     "metadata": {},
     "output_type": "execute_result"
    }
   ],
   "source": [
    "test"
   ]
  },
  {
   "cell_type": "code",
   "execution_count": 14,
   "metadata": {},
   "outputs": [
    {
     "data": {
      "text/plain": [
       "tensor([ 0.1464,  0.8536])"
      ]
     },
     "execution_count": 14,
     "metadata": {},
     "output_type": "execute_result"
    }
   ],
   "source": [
    "test[0, :, 0, 0]"
   ]
  },
  {
   "cell_type": "code",
   "execution_count": null,
   "metadata": {},
   "outputs": [],
   "source": []
  }
 ],
 "metadata": {
  "kernelspec": {
   "display_name": "Python 3",
   "language": "python",
   "name": "python3"
  },
  "language_info": {
   "codemirror_mode": {
    "name": "ipython",
    "version": 3
   },
   "file_extension": ".py",
   "mimetype": "text/x-python",
   "name": "python",
   "nbconvert_exporter": "python",
   "pygments_lexer": "ipython3",
   "version": "3.6.4"
  }
 },
 "nbformat": 4,
 "nbformat_minor": 2
}
