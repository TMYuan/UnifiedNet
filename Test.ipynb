{
 "cells": [
  {
   "cell_type": "code",
   "execution_count": 1,
   "metadata": {},
   "outputs": [],
   "source": [
    "from model import encoder, decoder\n",
    "from util import datasets\n",
    "from torchvision import transforms\n",
    "from torch.utils.data import DataLoader\n",
    "from train import train\n",
    "import loss\n",
    "import numpy as np\n",
    "import torch\n",
    "import torch.optim as optim\n"
   ]
  },
  {
   "cell_type": "code",
   "execution_count": 2,
   "metadata": {},
   "outputs": [],
   "source": [
    "PARAM_CHAIRS = {\n",
    "    'train': '/home/anatolios/project/All_in_one/FlyingChairs/',\n",
    "    'test': '/home/julia0607/Flying Chairs/testing',\n",
    "    'name': 'FlyingChairs',\n",
    "    'dtype': 'image'\n",
    "}\n",
    "BATCH_SIZE = 10\n",
    "N_EPOCHS = 30\n",
    "LR = 1e-4\n",
    "DEVICE = torch.device(\"cuda:1\" if torch.cuda.is_available() else \"cpu\")\n"
   ]
  },
  {
   "cell_type": "code",
   "execution_count": 3,
   "metadata": {},
   "outputs": [],
   "source": [
    "def prepare_data(param, transformation):\n",
    "    \"\"\"\n",
    "    Return dataloader of given parameters\n",
    "    \"\"\"\n",
    "    # Extract parameters\n",
    "    path_train, path_test, name, dtype = param['train'], param['test'], param['name'], param['dtype']\n",
    "    \n",
    "    # Create dataset for train and test path\n",
    "    data_train = datasets.Datasets(path_train, name, dtype, transforms=transformation, img_size=224)\n",
    "#     print(data_train[0][1].shape)\n",
    "#     data_test = datasets.Datasets(path_test, name, dtype, transforms=transformation)\n",
    "\n",
    "    # Create dataloader for train and test\n",
    "#     dataloader_train = DataLoader(dataset=data_train, batch_size=BATCH_SIZE, shuffle=True, drop_last=True)\n",
    "#     dataloader_test = DataLoader(dataset=data_test, batch_size=BATCH_SIZE, shuffle=True)\n",
    "    return data_train, data_train"
   ]
  },
  {
   "cell_type": "code",
   "execution_count": 7,
   "metadata": {},
   "outputs": [],
   "source": [
    "trans = transforms.Compose([\n",
    "            transforms.ToTensor(),\n",
    "            transforms.Normalize([0.485, 0.456, 0.406], [0.229, 0.224, 0.225])\n",
    "        ])\n",
    "fc_train, _ = prepare_data(PARAM_CHAIRS, trans)"
   ]
  },
  {
   "cell_type": "code",
   "execution_count": 8,
   "metadata": {},
   "outputs": [
    {
     "data": {
      "text/plain": [
       "0.113100186"
      ]
     },
     "execution_count": 8,
     "metadata": {},
     "output_type": "execute_result"
    }
   ],
   "source": [
    "fc_train[0][1].max()"
   ]
  },
  {
   "cell_type": "code",
   "execution_count": 9,
   "metadata": {},
   "outputs": [
    {
     "data": {
      "text/plain": [
       "-0.14272065"
      ]
     },
     "execution_count": 9,
     "metadata": {},
     "output_type": "execute_result"
    }
   ],
   "source": [
    "fc_train[0][1].min()"
   ]
  },
  {
   "cell_type": "code",
   "execution_count": null,
   "metadata": {},
   "outputs": [],
   "source": []
  }
 ],
 "metadata": {
  "kernelspec": {
   "display_name": "Python 3",
   "language": "python",
   "name": "python3"
  },
  "language_info": {
   "codemirror_mode": {
    "name": "ipython",
    "version": 3
   },
   "file_extension": ".py",
   "mimetype": "text/x-python",
   "name": "python",
   "nbconvert_exporter": "python",
   "pygments_lexer": "ipython3",
   "version": "3.6.4"
  }
 },
 "nbformat": 4,
 "nbformat_minor": 2
}
